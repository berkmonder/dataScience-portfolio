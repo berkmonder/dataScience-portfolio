{
 "cells": [
  {
   "cell_type": "code",
   "execution_count": 1,
   "id": "2bd3a966",
   "metadata": {},
   "outputs": [],
   "source": [
    "# linear algebra\n",
    "import numpy as np\n",
    "\n",
    "# data processing\n",
    "import pandas as pd\n",
    "\n",
    "# Algorithms\n",
    "from sklearn.ensemble import RandomForestClassifier\n",
    "\n",
    "import warnings\n",
    "warnings.filterwarnings(action='ignore')"
   ]
  },
  {
   "cell_type": "code",
   "execution_count": 2,
   "id": "f339aa4c",
   "metadata": {
    "scrolled": true
   },
   "outputs": [
    {
     "name": "stdout",
     "output_type": "stream",
     "text": [
      "connected\n"
     ]
    }
   ],
   "source": [
    "# linear algebra\n",
    "import numpy as np\n",
    "\n",
    "# data processing\n",
    "import pandas as pd\n",
    "\n",
    "from sklearn.ensemble import RandomForestClassifier\n",
    "\n",
    "import warnings\n",
    "warnings.filterwarnings(action='ignore')\n",
    "\n",
    "from sqlalchemy import create_engine\n",
    "\n",
    "dbstring = \"postgresql://monder@127.0.0.1:5432/weatherdb\"\n",
    "\n",
    "connection = create_engine(dbstring).connect()\n",
    "\n",
    "df = pd.read_sql_table('weather', connection)\n",
    "\n",
    "print(\"connected\")\n",
    "\n",
    "pd.set_option('display.max_columns', None)\n",
    "df.replace('NaN', np.NaN, inplace=True)\n",
    "\n",
    "no_yes = {'No': 0, 'Yes': 1}\n",
    "\n",
    "df['raintoday'] = df['raintoday'].map(no_yes)\n",
    "df['raintomorrow'] = df['raintomorrow'].map(no_yes)\n",
    "\n",
    "# find categorical variables\n",
    "categorical = [var for var in df.columns if df[var].dtype=='O']\n",
    "\n",
    "# find numerical variables\n",
    "numerical = [var for var in df.columns if df[var].dtype!='O']"
   ]
  },
  {
   "cell_type": "code",
   "execution_count": 3,
   "id": "7286d81f",
   "metadata": {},
   "outputs": [],
   "source": [
    "X = df.drop(['raintomorrow'], axis=1)\n",
    "y = df['raintomorrow']\n",
    "\n",
    "# display categorical variables\n",
    "categorical = [col for col in X.columns if X[col].dtypes == 'O']\n",
    "\n",
    "# display numerical variables\n",
    "numerical = [col for col in X.columns if X[col].dtypes != 'O']\n",
    "\n",
    "# impute missing values in X_train and X_test with respective column median in X_train\n",
    "for col in numerical:\n",
    "    col_median=X[col].median()\n",
    "    X[col].fillna(col_median, inplace=True)\n",
    "\n",
    "# impute missing categorical variables with most frequent value\n",
    "X['windgustdir'].fillna(X['windgustdir'].mode()[0], inplace=True)\n",
    "X['winddir9am'].fillna(X['winddir9am'].mode()[0], inplace=True)\n",
    "X['winddir3pm'].fillna(X['winddir3pm'].mode()[0], inplace=True)\n",
    "    \n",
    "# impute missing values in y_train and y_test with respective column median in y_train\n",
    "y.fillna(y.mode()[0], inplace=True)\n",
    "\n",
    "def max_value(df, variable, top):\n",
    "    return np.where(df[variable]>top, top, df[variable])\n",
    "\n",
    "X['rainfall'] = max_value(X, 'rainfall', 3.2)\n",
    "X['evaporation'] = max_value(X, 'evaporation', 21.8)\n",
    "X['windspeed9am'] = max_value(X, 'windspeed9am', 55)\n",
    "X['windspeed3pm'] = max_value(X, 'windspeed3pm', 57)\n",
    "    \n",
    "X_train = pd.concat([X[numerical],\n",
    "                     pd.get_dummies(X.location), \n",
    "                     pd.get_dummies(X.windgustdir),\n",
    "                     pd.get_dummies(X.winddir9am),\n",
    "                     pd.get_dummies(X.winddir3pm)], axis=1)"
   ]
  },
  {
   "cell_type": "code",
   "execution_count": 4,
   "id": "fa8ec815",
   "metadata": {},
   "outputs": [],
   "source": [
    "X_copy = X.copy()\n",
    "X = X.loc[:, ['humidity3pm', 'sunshine', 'pressure3pm', 'rainfall']]"
   ]
  },
  {
   "cell_type": "code",
   "execution_count": 5,
   "id": "e26b74db",
   "metadata": {
    "scrolled": true
   },
   "outputs": [
    {
     "data": {
      "text/plain": [
       "RandomForestClassifier()"
      ]
     },
     "execution_count": 5,
     "metadata": {},
     "output_type": "execute_result"
    }
   ],
   "source": [
    "random_forest = RandomForestClassifier(n_estimators=100)\n",
    "random_forest.fit(X, y)"
   ]
  },
  {
   "cell_type": "code",
   "execution_count": 10,
   "id": "49dc2ca1",
   "metadata": {},
   "outputs": [],
   "source": [
    "def classify(hum, sun, press, rain):\n",
    "    arr = np.array([hum, sun, press, rain])\n",
    "    arr = arr.astype(np.float64)\n",
    "    \n",
    "    query = arr.reshape(1, -1)\n",
    "    prediction = random_forest.predict(query)[0]\n",
    "    \n",
    "    return prediction"
   ]
  },
  {
   "cell_type": "code",
   "execution_count": 11,
   "id": "2937558a",
   "metadata": {
    "scrolled": true
   },
   "outputs": [
    {
     "name": "stdout",
     "output_type": "stream",
     "text": [
      "0.0\n"
     ]
    }
   ],
   "source": [
    "print(classify(100, 100, 1000, 100))"
   ]
  },
  {
   "cell_type": "code",
   "execution_count": null,
   "id": "a122b54b",
   "metadata": {},
   "outputs": [],
   "source": []
  }
 ],
 "metadata": {
  "kernelspec": {
   "display_name": "Python 3 (ipykernel)",
   "language": "python",
   "name": "python3"
  },
  "language_info": {
   "codemirror_mode": {
    "name": "ipython",
    "version": 3
   },
   "file_extension": ".py",
   "mimetype": "text/x-python",
   "name": "python",
   "nbconvert_exporter": "python",
   "pygments_lexer": "ipython3",
   "version": "3.9.7"
  }
 },
 "nbformat": 4,
 "nbformat_minor": 5
}
