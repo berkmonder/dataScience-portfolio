{
 "cells": [
  {
   "cell_type": "code",
   "execution_count": 1,
   "id": "8351ba0e",
   "metadata": {},
   "outputs": [
    {
     "name": "stdout",
     "output_type": "stream",
     "text": [
      "Populating the interactive namespace from numpy and matplotlib\n"
     ]
    }
   ],
   "source": [
    "#######################\n",
    "# standard code block #\n",
    "#######################\n",
    "\n",
    "# see https://ipython.readthedocs.io/en/stable/interactive/magics.html\n",
    "%pylab inline\n",
    "%config InlineBackend.figure_formats = ['retina']\n",
    "\n",
    "#######################\n",
    "#       imports       #\n",
    "#######################\n",
    "import pandas as pd\n",
    "import seaborn as sns\n",
    "# import sklearn\n",
    "\n",
    "sns.set_style(\"whitegrid\", {\"font.family\": [\"serif\"]})\n",
    "sns.set_context(\"talk\") # talk context is good for RISE presentations"
   ]
  },
  {
   "cell_type": "code",
   "execution_count": 29,
   "id": "6567b34c",
   "metadata": {},
   "outputs": [],
   "source": [
    "import numpy as np\n",
    "import pandas as pd\n",
    "import matplotlib.pyplot as plt\n",
    "import seaborn as sns\n",
    "%matplotlib inline\n",
    "from sklearn.linear_model import LogisticRegression # to apply the Logistic regression\n",
    "from sklearn.model_selection import train_test_split # to split the data into two parts"
   ]
  },
  {
   "cell_type": "code",
   "execution_count": 233,
   "id": "6dbbcfea",
   "metadata": {},
   "outputs": [
    {
     "data": {
      "text/html": [
       "<div>\n",
       "<style scoped>\n",
       "    .dataframe tbody tr th:only-of-type {\n",
       "        vertical-align: middle;\n",
       "    }\n",
       "\n",
       "    .dataframe tbody tr th {\n",
       "        vertical-align: top;\n",
       "    }\n",
       "\n",
       "    .dataframe thead th {\n",
       "        text-align: right;\n",
       "    }\n",
       "</style>\n",
       "<table border=\"1\" class=\"dataframe\">\n",
       "  <thead>\n",
       "    <tr style=\"text-align: right;\">\n",
       "      <th></th>\n",
       "      <th>Title</th>\n",
       "      <th>WorldWideGross</th>\n",
       "      <th>Budget</th>\n",
       "      <th>ReleaseDate</th>\n",
       "      <th>Certificate</th>\n",
       "      <th>Runtime</th>\n",
       "      <th>Score</th>\n",
       "      <th>ScoreReviews</th>\n",
       "      <th>ImdbReviews</th>\n",
       "      <th>CriticReviews</th>\n",
       "      <th>MetaScore</th>\n",
       "      <th>Directors</th>\n",
       "      <th>Writers</th>\n",
       "      <th>Stars</th>\n",
       "      <th>Genres</th>\n",
       "      <th>Country</th>\n",
       "      <th>Locations</th>\n",
       "      <th>Companies</th>\n",
       "    </tr>\n",
       "  </thead>\n",
       "  <tbody>\n",
       "    <tr>\n",
       "      <th>0</th>\n",
       "      <td>The Shawshank Redemption</td>\n",
       "      <td>2.881729e+07</td>\n",
       "      <td>25000000.0</td>\n",
       "      <td>1995-03-10</td>\n",
       "      <td>13+</td>\n",
       "      <td>142.0</td>\n",
       "      <td>9.3</td>\n",
       "      <td>2500000</td>\n",
       "      <td>9700</td>\n",
       "      <td>193</td>\n",
       "      <td>80.0</td>\n",
       "      <td>['Frank Darabont']</td>\n",
       "      <td>['Stephen King', 'Frank Darabont']</td>\n",
       "      <td>['Tim Robbins', 'Morgan Freeman', 'Bob Gunton']</td>\n",
       "      <td>['Drama']</td>\n",
       "      <td>United States</td>\n",
       "      <td>['127A Smithfield Road, Frederiksted, Virgin I...</td>\n",
       "      <td>['Castle Rock Entertainment']</td>\n",
       "    </tr>\n",
       "    <tr>\n",
       "      <th>1</th>\n",
       "      <td>The Godfather</td>\n",
       "      <td>2.461210e+08</td>\n",
       "      <td>6000000.0</td>\n",
       "      <td>1973-10-01</td>\n",
       "      <td>18+</td>\n",
       "      <td>175.0</td>\n",
       "      <td>9.2</td>\n",
       "      <td>1700000</td>\n",
       "      <td>4700</td>\n",
       "      <td>269</td>\n",
       "      <td>100.0</td>\n",
       "      <td>['Francis Ford Coppola']</td>\n",
       "      <td>['Mario Puzo', 'Francis Ford Coppola']</td>\n",
       "      <td>['Marlon Brando', 'Al Pacino', 'James Caan']</td>\n",
       "      <td>['Crime', 'Drama']</td>\n",
       "      <td>United States</td>\n",
       "      <td>[\"Forza d'Agrò, Messina, Sicily, Italy\"]</td>\n",
       "      <td>['Paramount Pictures', 'Alfran Productions']</td>\n",
       "    </tr>\n",
       "    <tr>\n",
       "      <th>2</th>\n",
       "      <td>The Godfather: Part II</td>\n",
       "      <td>4.803578e+07</td>\n",
       "      <td>13000000.0</td>\n",
       "      <td>1974-12-18</td>\n",
       "      <td>18+</td>\n",
       "      <td>202.0</td>\n",
       "      <td>9.0</td>\n",
       "      <td>1200000</td>\n",
       "      <td>1200</td>\n",
       "      <td>190</td>\n",
       "      <td>90.0</td>\n",
       "      <td>['Francis Ford Coppola']</td>\n",
       "      <td>['Francis Ford Coppola', 'Mario Puzo']</td>\n",
       "      <td>['Al Pacino', 'Robert De Niro', 'Robert Duvall']</td>\n",
       "      <td>['Crime', 'Drama']</td>\n",
       "      <td>United States</td>\n",
       "      <td>['Kaiser Estate, 4000 W Lake Blvd, Homewood, L...</td>\n",
       "      <td>['Paramount Pictures', 'The Coppola Company', ...</td>\n",
       "    </tr>\n",
       "    <tr>\n",
       "      <th>3</th>\n",
       "      <td>The Dark Knight</td>\n",
       "      <td>1.005974e+09</td>\n",
       "      <td>185000000.0</td>\n",
       "      <td>2008-07-25</td>\n",
       "      <td>16+</td>\n",
       "      <td>152.0</td>\n",
       "      <td>9.0</td>\n",
       "      <td>2500000</td>\n",
       "      <td>7700</td>\n",
       "      <td>433</td>\n",
       "      <td>84.0</td>\n",
       "      <td>['Christopher Nolan']</td>\n",
       "      <td>['Writers', 'Jonathan Nolan', 'Christopher Nol...</td>\n",
       "      <td>['Christian Bale', 'Heath Ledger', 'Aaron Eckh...</td>\n",
       "      <td>['Action', 'Crime', 'Drama', 'Thriller']</td>\n",
       "      <td>United States</td>\n",
       "      <td>['Chicago, Illinois, USA']</td>\n",
       "      <td>['Warner Bros.', 'Legendary Entertainment', 'S...</td>\n",
       "    </tr>\n",
       "    <tr>\n",
       "      <th>4</th>\n",
       "      <td>12 Angry Men</td>\n",
       "      <td>9.550000e+02</td>\n",
       "      <td>350000.0</td>\n",
       "      <td>1960-04-01</td>\n",
       "      <td>15+</td>\n",
       "      <td>96.0</td>\n",
       "      <td>9.0</td>\n",
       "      <td>740000</td>\n",
       "      <td>1800</td>\n",
       "      <td>160</td>\n",
       "      <td>96.0</td>\n",
       "      <td>['Sidney Lumet']</td>\n",
       "      <td>['Reginald Rose']</td>\n",
       "      <td>['Henry Fonda', 'Lee J. Cobb', 'Martin Balsam']</td>\n",
       "      <td>['Crime', 'Drama']</td>\n",
       "      <td>United States</td>\n",
       "      <td>['New York County Courthouse - 60 Centre Stree...</td>\n",
       "      <td>['Orion-Nova Productions']</td>\n",
       "    </tr>\n",
       "  </tbody>\n",
       "</table>\n",
       "</div>"
      ],
      "text/plain": [
       "                      Title  WorldWideGross       Budget ReleaseDate  \\\n",
       "0  The Shawshank Redemption    2.881729e+07   25000000.0  1995-03-10   \n",
       "1             The Godfather    2.461210e+08    6000000.0  1973-10-01   \n",
       "2    The Godfather: Part II    4.803578e+07   13000000.0  1974-12-18   \n",
       "3           The Dark Knight    1.005974e+09  185000000.0  2008-07-25   \n",
       "4              12 Angry Men    9.550000e+02     350000.0  1960-04-01   \n",
       "\n",
       "  Certificate  Runtime  Score  ScoreReviews  ImdbReviews  CriticReviews  \\\n",
       "0         13+    142.0    9.3       2500000         9700            193   \n",
       "1         18+    175.0    9.2       1700000         4700            269   \n",
       "2         18+    202.0    9.0       1200000         1200            190   \n",
       "3         16+    152.0    9.0       2500000         7700            433   \n",
       "4         15+     96.0    9.0        740000         1800            160   \n",
       "\n",
       "   MetaScore                 Directors  \\\n",
       "0       80.0        ['Frank Darabont']   \n",
       "1      100.0  ['Francis Ford Coppola']   \n",
       "2       90.0  ['Francis Ford Coppola']   \n",
       "3       84.0     ['Christopher Nolan']   \n",
       "4       96.0          ['Sidney Lumet']   \n",
       "\n",
       "                                             Writers  \\\n",
       "0                 ['Stephen King', 'Frank Darabont']   \n",
       "1             ['Mario Puzo', 'Francis Ford Coppola']   \n",
       "2             ['Francis Ford Coppola', 'Mario Puzo']   \n",
       "3  ['Writers', 'Jonathan Nolan', 'Christopher Nol...   \n",
       "4                                  ['Reginald Rose']   \n",
       "\n",
       "                                               Stars  \\\n",
       "0    ['Tim Robbins', 'Morgan Freeman', 'Bob Gunton']   \n",
       "1       ['Marlon Brando', 'Al Pacino', 'James Caan']   \n",
       "2   ['Al Pacino', 'Robert De Niro', 'Robert Duvall']   \n",
       "3  ['Christian Bale', 'Heath Ledger', 'Aaron Eckh...   \n",
       "4    ['Henry Fonda', 'Lee J. Cobb', 'Martin Balsam']   \n",
       "\n",
       "                                     Genres        Country  \\\n",
       "0                                 ['Drama']  United States   \n",
       "1                        ['Crime', 'Drama']  United States   \n",
       "2                        ['Crime', 'Drama']  United States   \n",
       "3  ['Action', 'Crime', 'Drama', 'Thriller']  United States   \n",
       "4                        ['Crime', 'Drama']  United States   \n",
       "\n",
       "                                           Locations  \\\n",
       "0  ['127A Smithfield Road, Frederiksted, Virgin I...   \n",
       "1           [\"Forza d'Agrò, Messina, Sicily, Italy\"]   \n",
       "2  ['Kaiser Estate, 4000 W Lake Blvd, Homewood, L...   \n",
       "3                         ['Chicago, Illinois, USA']   \n",
       "4  ['New York County Courthouse - 60 Centre Stree...   \n",
       "\n",
       "                                           Companies  \n",
       "0                      ['Castle Rock Entertainment']  \n",
       "1       ['Paramount Pictures', 'Alfran Productions']  \n",
       "2  ['Paramount Pictures', 'The Coppola Company', ...  \n",
       "3  ['Warner Bros.', 'Legendary Entertainment', 'S...  \n",
       "4                         ['Orion-Nova Productions']  "
      ]
     },
     "execution_count": 233,
     "metadata": {},
     "output_type": "execute_result"
    }
   ],
   "source": [
    "# load imdb data\n",
    "df = pd.read_csv('./data/movies.csv')\n",
    "del df['Unnamed: 0']\n",
    "df.head()"
   ]
  },
  {
   "cell_type": "code",
   "execution_count": 234,
   "id": "68e213c7",
   "metadata": {},
   "outputs": [
    {
     "name": "stdout",
     "output_type": "stream",
     "text": [
      "<class 'pandas.core.frame.DataFrame'>\n",
      "RangeIndex: 250 entries, 0 to 249\n",
      "Data columns (total 18 columns):\n",
      " #   Column          Non-Null Count  Dtype  \n",
      "---  ------          --------------  -----  \n",
      " 0   Title           250 non-null    object \n",
      " 1   WorldWideGross  240 non-null    float64\n",
      " 2   Budget          221 non-null    float64\n",
      " 3   ReleaseDate     250 non-null    object \n",
      " 4   Certificate     250 non-null    object \n",
      " 5   Runtime         244 non-null    float64\n",
      " 6   Score           250 non-null    float64\n",
      " 7   ScoreReviews    250 non-null    int64  \n",
      " 8   ImdbReviews     250 non-null    int64  \n",
      " 9   CriticReviews   250 non-null    int64  \n",
      " 10  MetaScore       218 non-null    float64\n",
      " 11  Directors       250 non-null    object \n",
      " 12  Writers         250 non-null    object \n",
      " 13  Stars           250 non-null    object \n",
      " 14  Genres          250 non-null    object \n",
      " 15  Country         250 non-null    object \n",
      " 16  Locations       236 non-null    object \n",
      " 17  Companies       250 non-null    object \n",
      "dtypes: float64(5), int64(3), object(10)\n",
      "memory usage: 35.3+ KB\n"
     ]
    }
   ],
   "source": [
    "df.info()"
   ]
  },
  {
   "cell_type": "code",
   "execution_count": 241,
   "id": "d02033a3",
   "metadata": {
    "scrolled": true
   },
   "outputs": [
    {
     "data": {
      "text/plain": [
       "Title             False\n",
       "WorldWideGross    False\n",
       "Budget            False\n",
       "ReleaseDate       False\n",
       "Certificate       False\n",
       "Runtime           False\n",
       "Score             False\n",
       "ScoreReviews      False\n",
       "ImdbReviews       False\n",
       "CriticReviews     False\n",
       "MetaScore         False\n",
       "Directors         False\n",
       "Writers           False\n",
       "Stars             False\n",
       "Genres            False\n",
       "Country           False\n",
       "Locations         False\n",
       "Companies         False\n",
       "dtype: bool"
      ]
     },
     "execution_count": 241,
     "metadata": {},
     "output_type": "execute_result"
    }
   ],
   "source": [
    "df.isnull().any()"
   ]
  },
  {
   "cell_type": "code",
   "execution_count": 236,
   "id": "f0a06163",
   "metadata": {},
   "outputs": [
    {
     "data": {
      "text/plain": [
       "(250, 18)"
      ]
     },
     "execution_count": 236,
     "metadata": {},
     "output_type": "execute_result"
    }
   ],
   "source": [
    "# print(np.where(df['Budget']>300_000_000))\n",
    "df['WorldWideGross'].fillna(value=0, inplace=True)\n",
    "df['Budget'].fillna(value=0, inplace=True)\n",
    "df['Runtime'].fillna(value=0, inplace=True)\n",
    "df['MetaScore'].fillna(value=0, inplace=True)\n",
    "df['Locations'].fillna('Nowhere', inplace=True)\n",
    "df.shape"
   ]
  },
  {
   "cell_type": "code",
   "execution_count": 240,
   "id": "44d1ccac",
   "metadata": {},
   "outputs": [
    {
     "name": "stdout",
     "output_type": "stream",
     "text": [
      "(array([], dtype=int64),)\n",
      "(array([], dtype=int64),)\n",
      "(array([], dtype=int64),)\n",
      "(array([], dtype=int64),)\n"
     ]
    }
   ],
   "source": [
    "print(np.where(df['WorldWideGross']==0))\n",
    "print(np.where(df['Budget']==0))\n",
    "print(np.where(df['Runtime']==0))\n",
    "print(np.where(df['MetaScore']==0))"
   ]
  },
  {
   "cell_type": "code",
   "execution_count": 238,
   "id": "ea6c64c5",
   "metadata": {
    "collapsed": true
   },
   "outputs": [
    {
     "name": "stderr",
     "output_type": "stream",
     "text": [
      "/tmp/ipykernel_38056/1404209010.py:1: SettingWithCopyWarning: \n",
      "A value is trying to be set on a copy of a slice from a DataFrame\n",
      "\n",
      "See the caveats in the documentation: https://pandas.pydata.org/pandas-docs/stable/user_guide/indexing.html#returning-a-view-versus-a-copy\n",
      "  df['Budget'][df['Budget']>330_000_000] = df['Budget'][df['Budget']<330_000_000].mean()\n"
     ]
    }
   ],
   "source": [
    "df['Budget'][df['Budget']>330_000_000] = df['Budget'][df['Budget']<330_000_000].mean()"
   ]
  },
  {
   "cell_type": "code",
   "execution_count": 239,
   "id": "bff81549",
   "metadata": {},
   "outputs": [],
   "source": [
    "df['WorldWideGross'] = df['WorldWideGross'].replace(0, np.mean(train['WorldWideGross']))\n",
    "df['Budget'] = df['Budget'].replace(0, np.mean(train['Budget']))\n",
    "df['Runtime'] = df['Runtime'].replace(0, np.mean(train['Runtime']))\n",
    "df['MetaScore'] = df['MetaScore'].replace(0, np.mean(train['MetaScore']))"
   ]
  },
  {
   "cell_type": "code",
   "execution_count": 242,
   "id": "ab275bd3",
   "metadata": {},
   "outputs": [],
   "source": [
    "dummies = pd.get_dummies(df['Genres'])\n",
    "\n",
    "df.drop('Genres', axis = 1, inplace=True)\n",
    "\n",
    "X = pd.concat([df, dummies], axis = 1)"
   ]
  },
  {
   "cell_type": "code",
   "execution_count": 351,
   "id": "d9c8ead4",
   "metadata": {},
   "outputs": [
    {
     "name": "stderr",
     "output_type": "stream",
     "text": [
      "/tmp/ipykernel_38056/4031736244.py:7: FutureWarning: In a future version of pandas all arguments of DataFrame.drop except for the argument 'labels' will be keyword-only\n",
      "  X = df.drop(['Title', 'WorldWideGross', \"ReleaseDate\", \"Certificate\"\n"
     ]
    }
   ],
   "source": [
    "from sklearn.linear_model import LinearRegression\n",
    "# importing linear regression\n",
    "lreg = LinearRegression()\n",
    "\n",
    "from sklearn.model_selection import train_test_split\n",
    "\n",
    "X = df.drop(['Title', 'WorldWideGross', \"ReleaseDate\", \"Certificate\"\n",
    "             , \"Score\", \"ScoreReviews\", \"ImdbReviews\", \"CriticReviews\"\n",
    "             , \"MetaScore\", \"Directors\", \"Writers\", \"Stars\", \"Country\"\n",
    "             , \"Locations\", \"Companies\"], 1)\n",
    "\n",
    "x_train, x_cv, y_train, y_cv = train_test_split(X, df.WorldWideGross, test_size =0.2)"
   ]
  },
  {
   "cell_type": "code",
   "execution_count": 352,
   "id": "e5c0f435",
   "metadata": {
    "scrolled": true
   },
   "outputs": [
    {
     "data": {
      "text/plain": [
       "LinearRegression()"
      ]
     },
     "execution_count": 352,
     "metadata": {},
     "output_type": "execute_result"
    }
   ],
   "source": [
    "lreg.fit(x_train, y_train)"
   ]
  },
  {
   "cell_type": "code",
   "execution_count": 353,
   "id": "ab555f18",
   "metadata": {},
   "outputs": [
    {
     "data": {
      "text/plain": [
       "0.49923902778136353"
      ]
     },
     "execution_count": 353,
     "metadata": {},
     "output_type": "execute_result"
    }
   ],
   "source": [
    "# Linear modelimizi eğitelim\n",
    "\n",
    "lreg.fit(x_train,y_train)\n",
    "\n",
    "# calculating mse\n",
    "\n",
    "mse = np.mean((x_cv['Budget'] - y_cv)**2)\n",
    "\n",
    "mse\n",
    "\n",
    "# evaluation using r-square\n",
    "\n",
    "lreg.score(x_cv, y_cv)"
   ]
  },
  {
   "cell_type": "code",
   "execution_count": null,
   "id": "b4efa717",
   "metadata": {},
   "outputs": [],
   "source": []
  }
 ],
 "metadata": {
  "kernelspec": {
   "display_name": "Python 3 (ipykernel)",
   "language": "python",
   "name": "python3"
  },
  "language_info": {
   "codemirror_mode": {
    "name": "ipython",
    "version": 3
   },
   "file_extension": ".py",
   "mimetype": "text/x-python",
   "name": "python",
   "nbconvert_exporter": "python",
   "pygments_lexer": "ipython3",
   "version": "3.9.7"
  }
 },
 "nbformat": 4,
 "nbformat_minor": 5
}
